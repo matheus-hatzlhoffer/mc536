{
 "cells": [
  {
   "cell_type": "markdown",
   "metadata": {},
   "source": [
    "# World Health Organization Data\n",
    "\n",
    "## Global Health Observatory\n",
    "\n",
    "* [Data query API](https://apps.who.int/gho/data/node.resources.api)\n",
    "* [GHO OData API ](https://www.who.int/data/gho/info/gho-odata-api)\n",
    "\n",
    "Exemplos de API: [https://www.who.int/data/gho/info/athena-api-examples](https://www.who.int/data/gho/info/athena-api-examples).\n",
    "\n",
    "Para se determinar o tipo de informação para acesso veja a [lista de dimensões e códigos](https://apps.who.int/gho/athena/api/GHO). Utilize o código disponível no campo `<Code label=\"\">`. Por exemplo, no campo `<Code Label=\"WHOSIS_000001\">` é possível encontrar o código `WHOSIS_000001` que indica `Life expectancy at birth (years)`.\n",
    "\n",
    "Depois de estabelecida a informação, podem ser configurados parâmetros, com o sufixo `?` depois da URL. Os parâmetros são separados por `&`.\n",
    "\n",
    "Os códigos dos países são encontrados em: [https://apps.who.int/gho/athena/api/COUNTRY](https://apps.who.int/gho/athena/api/COUNTRY)."
   ]
  },
  {
   "cell_type": "markdown",
   "metadata": {},
   "source": [
    "## Importando dados em JSON no Python\n",
    "\n",
    "![JSON](json.png)"
   ]
  },
  {
   "cell_type": "code",
   "execution_count": null,
   "metadata": {},
   "outputs": [],
   "source": [
    "import io\n",
    "import requests\n",
    "import json\n",
    "url = \"https://apps.who.int/gho/athena/api/GHO/WHOSIS_000001?filter=COUNTRY:BRA&format=json\"\n",
    "js = requests.get(url).content\n",
    "print(js.decode(\"utf-8\"))"
   ]
  },
  {
   "cell_type": "markdown",
   "metadata": {},
   "source": [
    "### Mostrando o Copyright"
   ]
  },
  {
   "cell_type": "code",
   "execution_count": 1,
   "metadata": {},
   "outputs": [
    {
     "name": "stdout",
     "output_type": "stream",
     "text": [
      "(c) World Health Organization\n"
     ]
    }
   ],
   "source": [
    "import io\n",
    "import requests\n",
    "import json\n",
    "url = \"https://apps.who.int/gho/athena/api/GHO/WHOSIS_000001?filter=COUNTRY:BRA&format=json\"\n",
    "data = requests.get(url)\n",
    "js = data.json()\n",
    "print(js[\"copyright\"])"
   ]
  },
  {
   "cell_type": "markdown",
   "metadata": {},
   "source": [
    "## Importando dados em CSV no Python\n",
    "\n",
    "![CSV](csv.png)"
   ]
  },
  {
   "cell_type": "code",
   "execution_count": null,
   "metadata": {},
   "outputs": [],
   "source": [
    "import pandas as pd\n",
    "import io\n",
    "import requests\n",
    "url = \"https://apps.who.int/gho/athena/api/GHO/WHOSIS_000001?filter=COUNTRY:BRA&format=csv\"\n",
    "data = requests.get(url).content\n",
    "csv = pd.read_csv(io.StringIO(data.decode(\"utf-8\")))\n",
    "print(csv)"
   ]
  },
  {
   "cell_type": "markdown",
   "metadata": {},
   "source": [
    "# Mostrando o Copyright"
   ]
  },
  {
   "cell_type": "code",
   "execution_count": null,
   "metadata": {},
   "outputs": [],
   "source": []
  },
  {
   "cell_type": "markdown",
   "metadata": {},
   "source": [
    "# Importando dados em XML no Python\n",
    "\n",
    "![XML](xml.png)"
   ]
  },
  {
   "cell_type": "code",
   "execution_count": 11,
   "metadata": {},
   "outputs": [
    {
     "name": "stdout",
     "output_type": "stream",
     "text": [
      "<xml.etree.ElementTree.ElementTree object at 0x7ff5cb490b50>\n"
     ]
    }
   ],
   "source": [
    "import io\n",
    "import requests\n",
    "import xml.etree.ElementTree as et\n",
    "url = \"https://apps.who.int/gho/athena/api/GHO/WHOSIS_000001?filter=COUNTRY:BRA\"\n",
    "data = requests.get(url).content\n",
    "x = et.parse(io.StringIO(data.decode(\"utf-8\")))\n",
    "print(x)"
   ]
  },
  {
   "cell_type": "markdown",
   "metadata": {},
   "source": [
    "# Mostrando o Copyright"
   ]
  },
  {
   "cell_type": "markdown",
   "metadata": {},
   "source": [
    "# Tarefa 1\n",
    "\n",
    "Das fontes de dados disponíveis, tente encontrar fontes com formatos diferentes e importá-las via Python. Busque pelo menos dois formatos."
   ]
  },
  {
   "cell_type": "code",
   "execution_count": 1,
   "metadata": {},
   "outputs": [
    {
     "name": "stdout",
     "output_type": "stream",
     "text": [
      "{'copyright': '(c) World Health Organization', 'dataset': [{'label': 'CYCU', 'display': 'COUNTRY_YEARLY_CORE_UNITS'}], 'attribute': [{'label': 'DS', 'display': 'DS'}, {'label': 'FIPS', 'display': 'FIPS'}, {'label': 'IOC', 'display': 'IOC'}, {'label': 'ISO2', 'display': 'ISO2'}, {'label': 'ISO', 'display': 'ISO'}, {'label': 'ITU', 'display': 'ITU'}, {'label': 'MARC', 'display': 'MARC'}, {'label': 'WHO', 'display': 'WHO'}, {'label': 'WMO', 'display': 'WMO'}, {'label': 'GEOMETRY', 'display': 'GEOMETRY'}, {'label': 'MORT', 'display': 'MORT'}, {'label': 'LAND_AREA_KMSQ_2012', 'display': 'LAND_AREA_KMSQ_2012'}, {'label': 'LANGUAGES_EN_2012', 'display': 'LANGUAGES_EN_2012'}, {'label': 'WHO_REGION', 'display': 'WHO_REGION'}, {'label': 'WHO_REGION_CODE', 'display': 'WHO_REGION_CODE'}, {'label': 'WORLD_BANK_INCOME_GROUP', 'display': 'World Bank income group'}, {'label': 'WORLD_BANK_INCOME_GROUP_CODE', 'display': 'World Bank income group code'}, {'label': 'SHORTNAMEES', 'display': 'SHORTNAMEES'}, {'label': 'SHORTNAMEFR', 'display': 'SHORTNAMEFR'}, {'label': 'WHOLEGALSTATUS', 'display': 'WHOLEGALSTATUS'}, {'label': 'CATEGORY', 'display': 'Category'}, {'label': 'WORLD_BANK_INCOME_GROUP_GNI_REFERENCE_YEAR', 'display': 'World Bank income group GNI reference year'}, {'label': 'WORLD_BANK_INCOME_GROUP_RELEASE_DATE', 'display': 'World Bank income group release date'}, {'label': 'DEFINITION_XML', 'display': 'Definition (XML)'}], 'dimension': [{'label': 'GHO', 'display': 'Indicator', 'isMeasure': True, 'code': [{'label': 'WHOSIS_000005', 'display': 'Low-birth-weight newborns (%)', 'display_sequence': 0, 'url': 'https://www.who.int/data/gho/indicator-metadata-registry/imr-details/76', 'attr': [{'category': 'DEFINITION_XML', 'value': 'http://apps.who.int/gho/indicatorregistryservice/publicapiservice.asmx/IndicatorGetAsXml?profileCode=WHO&applicationCode=System&languageAlpha2=en&indicatorId=76'}, {'category': 'CATEGORY', 'value': 'Child health'}]}]}, {'label': 'PUBLISHSTATE', 'display': 'PUBLISH STATES', 'isMeasure': False, 'code': [{'label': 'PUBLISHED', 'display': 'Published', 'display_sequence': 0, 'url': '', 'attr': []}]}, {'label': 'YEAR', 'display': 'Year', 'isMeasure': False, 'code': [{'label': '1998', 'display': '1998', 'display_sequence': 80018002, 'url': '', 'attr': []}]}, {'label': 'REGION', 'display': 'WHO region', 'isMeasure': False, 'code': [{'label': 'EUR', 'display': 'Europe', 'display_sequence': 40, 'url': '', 'attr': []}]}, {'label': 'COUNTRY', 'display': 'Country', 'isMeasure': False, 'code': [{'label': 'FRA', 'display': 'France', 'display_sequence': 620, 'url': '', 'attr': [{'category': 'LAND_AREA_KMSQ_2012', 'value': '547,660'}, {'category': 'LANGUAGES_EN_2012', 'value': 'French'}, {'category': 'SHORTNAMEES', 'value': 'Francia'}, {'category': 'SHORTNAMEFR', 'value': 'France'}, {'category': 'WHOLEGALSTATUS', 'value': 'M'}, {'category': 'WHO_REGION', 'value': 'Europe'}, {'category': 'WORLD_BANK_INCOME_GROUP', 'value': 'High income'}, {'category': 'WHO_REGION_CODE', 'value': 'EUR'}, {'category': 'WORLD_BANK_INCOME_GROUP_CODE', 'value': 'WB_HI'}, {'category': 'DS', 'value': 'F'}, {'category': 'FIPS', 'value': 'FR'}, {'category': 'IOC', 'value': 'FRA'}, {'category': 'ISO2', 'value': 'FR'}, {'category': 'ISO', 'value': 'FRA'}, {'category': 'ITU', 'value': 'F'}, {'category': 'MARC', 'value': 'fr'}, {'category': 'WHO', 'value': 'FRA'}, {'category': 'WMO', 'value': 'FR'}, {'category': 'GEOMETRY', 'value': 'FRA'}, {'category': 'MORT', 'value': '4080'}, {'category': 'WORLD_BANK_INCOME_GROUP_GNI_REFERENCE_YEAR', 'value': '2017'}, {'category': 'WORLD_BANK_INCOME_GROUP_RELEASE_DATE', 'value': '2018'}]}]}], 'fact': [{'fact_id': 36237, 'dataset': 'CYCU', 'effective_date': '1900-01-01', 'end_date': '2900-12-31', 'published': True, 'Dim': [{'category': 'GHO', 'code': 'WHOSIS_000005'}, {'category': 'YEAR', 'code': '1998'}, {'category': 'COUNTRY', 'code': 'FRA'}, {'category': 'REGION', 'code': 'EUR'}, {'category': 'PUBLISHSTATE', 'code': 'PUBLISHED'}], 'value': {'display': '7', 'numeric': 7.0, 'low': None, 'high': None, 'stderr': None, 'stddev': None}}]}\n"
     ]
    }
   ],
   "source": [
    "import io\n",
    "import requests\n",
    "import json\n",
    "url = \"https://apps.who.int/gho/athena/api/GHO/WHOSIS_000005?filter=COUNTRY:FRA&format=json\"\n",
    "data = requests.get(url)\n",
    "js = data.json()\n",
    "print(js)"
   ]
  },
  {
   "cell_type": "code",
   "execution_count": 2,
   "metadata": {},
   "outputs": [
    {
     "name": "stdout",
     "output_type": "stream",
     "text": [
      "              GHO PUBLISHSTATE  YEAR REGION COUNTRY   SEX  Display Value  \\\n",
      "0   WHOSIS_000007    PUBLISHED  2000    EUR     FRA   MLE           16.5   \n",
      "1   WHOSIS_000007    PUBLISHED  2005    EUR     FRA   MLE           17.3   \n",
      "2   WHOSIS_000007    PUBLISHED  2010    EUR     FRA   MLE           18.1   \n",
      "3   WHOSIS_000007    PUBLISHED  2015    EUR     FRA   MLE           18.9   \n",
      "4   WHOSIS_000007    PUBLISHED  2016    EUR     FRA   MLE           19.1   \n",
      "5   WHOSIS_000007    PUBLISHED  2000    EUR     FRA  FMLE           20.1   \n",
      "6   WHOSIS_000007    PUBLISHED  2005    EUR     FRA  FMLE           20.6   \n",
      "7   WHOSIS_000007    PUBLISHED  2010    EUR     FRA  FMLE           21.3   \n",
      "8   WHOSIS_000007    PUBLISHED  2015    EUR     FRA  FMLE           21.8   \n",
      "9   WHOSIS_000007    PUBLISHED  2016    EUR     FRA  FMLE           21.9   \n",
      "10  WHOSIS_000007    PUBLISHED  2000    EUR     FRA  BTSX           18.4   \n",
      "11  WHOSIS_000007    PUBLISHED  2005    EUR     FRA  BTSX           19.1   \n",
      "12  WHOSIS_000007    PUBLISHED  2010    EUR     FRA  BTSX           19.8   \n",
      "13  WHOSIS_000007    PUBLISHED  2015    EUR     FRA  BTSX           20.4   \n",
      "14  WHOSIS_000007    PUBLISHED  2016    EUR     FRA  BTSX           20.6   \n",
      "\n",
      "     Numeric  Low  High  Comments  \n",
      "0   16.47490  NaN   NaN       NaN  \n",
      "1   17.32248  NaN   NaN       NaN  \n",
      "2   18.13179  NaN   NaN       NaN  \n",
      "3   18.89199  NaN   NaN       NaN  \n",
      "4   19.06082  NaN   NaN       NaN  \n",
      "5   20.07522  NaN   NaN       NaN  \n",
      "6   20.62295  NaN   NaN       NaN  \n",
      "7   21.27608  NaN   NaN       NaN  \n",
      "8   21.80952  NaN   NaN       NaN  \n",
      "9   21.94357  NaN   NaN       NaN  \n",
      "10  18.37616  NaN   NaN       NaN  \n",
      "11  19.06282  NaN   NaN       NaN  \n",
      "12  19.78822  NaN   NaN       NaN  \n",
      "13  20.41942  NaN   NaN       NaN  \n",
      "14  20.56637  NaN   NaN       NaN  \n"
     ]
    }
   ],
   "source": [
    "import pandas as pd\n",
    "import io\n",
    "import requests\n",
    "url = \"https://apps.who.int/gho/athena/api/GHO/WHOSIS_000007?filter=COUNTRY:FRA&format=csv\"\n",
    "data = requests.get(url).content\n",
    "csv = pd.read_csv(io.StringIO(data.decode(\"utf-8\")))\n",
    "print(csv)"
   ]
  },
  {
   "cell_type": "markdown",
   "metadata": {},
   "source": [
    "# Tarefa 2\n",
    "\n",
    "## Engenharia reversa\n",
    "\n",
    "Monte um diagramas que representem modelos dos dados que você terá acesso e como pretende associá-los. Coloque abaixo uma imagem do diagrama."
   ]
  },
  {
   "cell_type": "markdown",
   "metadata": {},
   "source": [
    "![bd](bd.PNG)\n"
   ]
  }
 ],
 "metadata": {
  "kernelspec": {
   "display_name": "Python 3",
   "language": "python",
   "name": "python3"
  },
  "language_info": {
   "codemirror_mode": {
    "name": "ipython",
    "version": 3
   },
   "file_extension": ".py",
   "mimetype": "text/x-python",
   "name": "python",
   "nbconvert_exporter": "python",
   "pygments_lexer": "ipython3",
   "version": "3.7.8"
  }
 },
 "nbformat": 4,
 "nbformat_minor": 4
}
